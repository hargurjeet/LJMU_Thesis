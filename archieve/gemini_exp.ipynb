{
  "nbformat": 4,
  "nbformat_minor": 0,
  "metadata": {
    "colab": {
      "provenance": [],
      "authorship_tag": "ABX9TyPI5UYOTCX++J8MaJqcUPPj",
      "include_colab_link": true
    },
    "kernelspec": {
      "name": "python3",
      "display_name": "Python 3"
    },
    "language_info": {
      "name": "python"
    }
  },
  "cells": [
    {
      "cell_type": "markdown",
      "metadata": {
        "id": "view-in-github",
        "colab_type": "text"
      },
      "source": [
        "<a href=\"https://colab.research.google.com/github/hargurjeet/LJMU_Thesis/blob/main/gemini_exp.ipynb\" target=\"_parent\"><img src=\"https://colab.research.google.com/assets/colab-badge.svg\" alt=\"Open In Colab\"/></a>"
      ]
    },
    {
      "cell_type": "code",
      "execution_count": 1,
      "metadata": {
        "id": "7D1ckdSBxCXL",
        "colab": {
          "base_uri": "https://localhost:8080/"
        },
        "outputId": "2a35e843-8748-46fb-a0ba-ee5b431029a6"
      },
      "outputs": [
        {
          "output_type": "stream",
          "name": "stdout",
          "text": [
            "\u001b[2K     \u001b[90m━━━━━━━━━━━━━━━━━━━━━━━━━━━━━━━━━━━━━━━━\u001b[0m \u001b[32m990.0/990.0 kB\u001b[0m \u001b[31m7.8 MB/s\u001b[0m eta \u001b[36m0:00:00\u001b[0m\n",
            "\u001b[2K     \u001b[90m━━━━━━━━━━━━━━━━━━━━━━━━━━━━━━━━━━━━━━━━\u001b[0m \u001b[32m373.5/373.5 kB\u001b[0m \u001b[31m10.4 MB/s\u001b[0m eta \u001b[36m0:00:00\u001b[0m\n",
            "\u001b[2K     \u001b[90m━━━━━━━━━━━━━━━━━━━━━━━━━━━━━━━━━━━━━━━━\u001b[0m \u001b[32m139.8/139.8 kB\u001b[0m \u001b[31m7.6 MB/s\u001b[0m eta \u001b[36m0:00:00\u001b[0m\n",
            "\u001b[2K     \u001b[90m━━━━━━━━━━━━━━━━━━━━━━━━━━━━━━━━━━━━━━━━\u001b[0m \u001b[32m141.1/141.1 kB\u001b[0m \u001b[31m8.6 MB/s\u001b[0m eta \u001b[36m0:00:00\u001b[0m\n",
            "\u001b[2K     \u001b[90m━━━━━━━━━━━━━━━━━━━━━━━━━━━━━━━━━━━━━━━━\u001b[0m \u001b[32m164.2/164.2 kB\u001b[0m \u001b[31m4.4 MB/s\u001b[0m eta \u001b[36m0:00:00\u001b[0m\n",
            "\u001b[2K     \u001b[90m━━━━━━━━━━━━━━━━━━━━━━━━━━━━━━━━━━━━━━━━\u001b[0m \u001b[32m718.3/718.3 kB\u001b[0m \u001b[31m8.3 MB/s\u001b[0m eta \u001b[36m0:00:00\u001b[0m\n",
            "\u001b[?25h"
          ]
        }
      ],
      "source": [
        "!pip install --quiet langchain\n",
        "\n",
        "!pip install --quiet langchain-google-genai"
      ]
    },
    {
      "cell_type": "code",
      "source": [
        "pip install -U langchain-community"
      ],
      "metadata": {
        "colab": {
          "base_uri": "https://localhost:8080/"
        },
        "id": "HhnTFND8znCV",
        "outputId": "4e09c449-02f3-4d7b-ec82-b212a676ccc3"
      },
      "execution_count": 4,
      "outputs": [
        {
          "output_type": "stream",
          "name": "stdout",
          "text": [
            "Requirement already satisfied: langchain-community in /usr/local/lib/python3.10/dist-packages (0.2.9)\n",
            "Requirement already satisfied: PyYAML>=5.3 in /usr/local/lib/python3.10/dist-packages (from langchain-community) (6.0.1)\n",
            "Requirement already satisfied: SQLAlchemy<3,>=1.4 in /usr/local/lib/python3.10/dist-packages (from langchain-community) (2.0.31)\n",
            "Requirement already satisfied: aiohttp<4.0.0,>=3.8.3 in /usr/local/lib/python3.10/dist-packages (from langchain-community) (3.9.5)\n",
            "Requirement already satisfied: dataclasses-json<0.7,>=0.5.7 in /usr/local/lib/python3.10/dist-packages (from langchain-community) (0.6.7)\n",
            "Requirement already satisfied: langchain<0.3.0,>=0.2.9 in /usr/local/lib/python3.10/dist-packages (from langchain-community) (0.2.10)\n",
            "Requirement already satisfied: langchain-core<0.3.0,>=0.2.22 in /usr/local/lib/python3.10/dist-packages (from langchain-community) (0.2.22)\n",
            "Requirement already satisfied: langsmith<0.2.0,>=0.1.0 in /usr/local/lib/python3.10/dist-packages (from langchain-community) (0.1.93)\n",
            "Requirement already satisfied: numpy<2,>=1 in /usr/local/lib/python3.10/dist-packages (from langchain-community) (1.25.2)\n",
            "Requirement already satisfied: requests<3,>=2 in /usr/local/lib/python3.10/dist-packages (from langchain-community) (2.31.0)\n",
            "Requirement already satisfied: tenacity!=8.4.0,<9.0.0,>=8.1.0 in /usr/local/lib/python3.10/dist-packages (from langchain-community) (8.5.0)\n",
            "Requirement already satisfied: aiosignal>=1.1.2 in /usr/local/lib/python3.10/dist-packages (from aiohttp<4.0.0,>=3.8.3->langchain-community) (1.3.1)\n",
            "Requirement already satisfied: attrs>=17.3.0 in /usr/local/lib/python3.10/dist-packages (from aiohttp<4.0.0,>=3.8.3->langchain-community) (23.2.0)\n",
            "Requirement already satisfied: frozenlist>=1.1.1 in /usr/local/lib/python3.10/dist-packages (from aiohttp<4.0.0,>=3.8.3->langchain-community) (1.4.1)\n",
            "Requirement already satisfied: multidict<7.0,>=4.5 in /usr/local/lib/python3.10/dist-packages (from aiohttp<4.0.0,>=3.8.3->langchain-community) (6.0.5)\n",
            "Requirement already satisfied: yarl<2.0,>=1.0 in /usr/local/lib/python3.10/dist-packages (from aiohttp<4.0.0,>=3.8.3->langchain-community) (1.9.4)\n",
            "Requirement already satisfied: async-timeout<5.0,>=4.0 in /usr/local/lib/python3.10/dist-packages (from aiohttp<4.0.0,>=3.8.3->langchain-community) (4.0.3)\n",
            "Requirement already satisfied: marshmallow<4.0.0,>=3.18.0 in /usr/local/lib/python3.10/dist-packages (from dataclasses-json<0.7,>=0.5.7->langchain-community) (3.21.3)\n",
            "Requirement already satisfied: typing-inspect<1,>=0.4.0 in /usr/local/lib/python3.10/dist-packages (from dataclasses-json<0.7,>=0.5.7->langchain-community) (0.9.0)\n",
            "Requirement already satisfied: langchain-text-splitters<0.3.0,>=0.2.0 in /usr/local/lib/python3.10/dist-packages (from langchain<0.3.0,>=0.2.9->langchain-community) (0.2.2)\n",
            "Requirement already satisfied: pydantic<3,>=1 in /usr/local/lib/python3.10/dist-packages (from langchain<0.3.0,>=0.2.9->langchain-community) (2.8.2)\n",
            "Requirement already satisfied: jsonpatch<2.0,>=1.33 in /usr/local/lib/python3.10/dist-packages (from langchain-core<0.3.0,>=0.2.22->langchain-community) (1.33)\n",
            "Requirement already satisfied: packaging<25,>=23.2 in /usr/local/lib/python3.10/dist-packages (from langchain-core<0.3.0,>=0.2.22->langchain-community) (24.1)\n",
            "Requirement already satisfied: orjson<4.0.0,>=3.9.14 in /usr/local/lib/python3.10/dist-packages (from langsmith<0.2.0,>=0.1.0->langchain-community) (3.10.6)\n",
            "Requirement already satisfied: charset-normalizer<4,>=2 in /usr/local/lib/python3.10/dist-packages (from requests<3,>=2->langchain-community) (3.3.2)\n",
            "Requirement already satisfied: idna<4,>=2.5 in /usr/local/lib/python3.10/dist-packages (from requests<3,>=2->langchain-community) (3.7)\n",
            "Requirement already satisfied: urllib3<3,>=1.21.1 in /usr/local/lib/python3.10/dist-packages (from requests<3,>=2->langchain-community) (2.0.7)\n",
            "Requirement already satisfied: certifi>=2017.4.17 in /usr/local/lib/python3.10/dist-packages (from requests<3,>=2->langchain-community) (2024.7.4)\n",
            "Requirement already satisfied: typing-extensions>=4.6.0 in /usr/local/lib/python3.10/dist-packages (from SQLAlchemy<3,>=1.4->langchain-community) (4.12.2)\n",
            "Requirement already satisfied: greenlet!=0.4.17 in /usr/local/lib/python3.10/dist-packages (from SQLAlchemy<3,>=1.4->langchain-community) (3.0.3)\n",
            "Requirement already satisfied: jsonpointer>=1.9 in /usr/local/lib/python3.10/dist-packages (from jsonpatch<2.0,>=1.33->langchain-core<0.3.0,>=0.2.22->langchain-community) (3.0.0)\n",
            "Requirement already satisfied: annotated-types>=0.4.0 in /usr/local/lib/python3.10/dist-packages (from pydantic<3,>=1->langchain<0.3.0,>=0.2.9->langchain-community) (0.7.0)\n",
            "Requirement already satisfied: pydantic-core==2.20.1 in /usr/local/lib/python3.10/dist-packages (from pydantic<3,>=1->langchain<0.3.0,>=0.2.9->langchain-community) (2.20.1)\n",
            "Requirement already satisfied: mypy-extensions>=0.3.0 in /usr/local/lib/python3.10/dist-packages (from typing-inspect<1,>=0.4.0->dataclasses-json<0.7,>=0.5.7->langchain-community) (1.0.0)\n"
          ]
        }
      ]
    },
    {
      "cell_type": "code",
      "source": [
        "import os\n",
        "import getpass\n",
        "\n",
        "os.environ['GOOGLE_API_KEY'] = \"\""
      ],
      "metadata": {
        "id": "e2HelucdzK2q"
      },
      "execution_count": 5,
      "outputs": []
    },
    {
      "cell_type": "code",
      "source": [
        "from langchain import PromptTemplate\n",
        "from langchain.document_loaders import WebBaseLoader\n",
        "from langchain.schema import StrOutputParser\n",
        "from langchain.schema.prompt_template import format_document"
      ],
      "metadata": {
        "colab": {
          "base_uri": "https://localhost:8080/"
        },
        "id": "Fy58LAzTzZFN",
        "outputId": "92066f0f-ce23-4a3e-dc98-4ea3b9844843"
      },
      "execution_count": 6,
      "outputs": [
        {
          "output_type": "stream",
          "name": "stderr",
          "text": [
            "WARNING:langchain_community.utils.user_agent:USER_AGENT environment variable not set, consider setting it to identify your requests.\n"
          ]
        }
      ]
    },
    {
      "cell_type": "code",
      "source": [
        "import pandas as pd\n",
        "from langchain.schema import HumanMessage\n",
        "from langchain_google_genai import ChatGoogleGenerativeAI\n",
        "\n",
        "# Sample DataFrame creation for demonstration based on provided data\n",
        "data = {\n",
        "    'Age': [34],\n",
        "    'FrequentFlyer': ['No'],\n",
        "    'AnnualIncomeClass': ['Middle Income'],\n",
        "    'ServicesOpted': [6],\n",
        "    'AccountSyncedToSocialMedia': ['No'],\n",
        "    'BookedHotelOrNot': ['Yes']\n",
        "}\n",
        "\n",
        "df = pd.DataFrame(data)\n",
        "\n",
        "# Function to create prompt for each row\n",
        "def create_prompt(row):\n",
        "    row_str = f\"Age: {row['Age']}, FrequentFlyer: {row['FrequentFlyer']}, \" \\\n",
        "              f\"AnnualIncomeClass: {row['AnnualIncomeClass']}, ServicesOpted: {row['ServicesOpted']}, \" \\\n",
        "              f\"AccountSyncedToSocialMedia: {row['AccountSyncedToSocialMedia']}, BookedHotelOrNot: {row['BookedHotelOrNot']}\"\n",
        "\n",
        "    prompt = f\"Convert the following row to a detailed textual description: {row_str}. \" \\\n",
        "             f\"Don't repeat similar descriptions for every line, and no need to follow an order while generating the description.\"\n",
        "    return prompt\n",
        "\n",
        "# Instantiate the language model (assuming necessary imports and configurations)\n",
        "llm = ChatGoogleGenerativeAI(model=\"gemini-pro\", temperature=0.7, top_p=0.85)\n",
        "\n",
        "# Iterate through each row and generate a textual description\n",
        "for index, row in df.iterrows():\n",
        "    prompt = create_prompt(row)\n",
        "    message = HumanMessage(content=prompt)\n",
        "    try:\n",
        "        response = llm.invoke([message])\n",
        "        print(f\"Row {index} response: {response}\")\n",
        "    except Exception as e:\n",
        "        print(f\"Error processing row {index}: {e}\")\n"
      ],
      "metadata": {
        "colab": {
          "base_uri": "https://localhost:8080/"
        },
        "id": "jbJcERzKfVL_",
        "outputId": "f37d61bf-cff2-4d0c-e6bc-808d35784b65"
      },
      "execution_count": 11,
      "outputs": [
        {
          "output_type": "stream",
          "name": "stdout",
          "text": [
            "Row 0 response: content='- The customer is 34 years old.\\n- The customer is not a frequent flyer.\\n- The customer belongs to the middle income class.\\n- The customer has opted for 6 services.\\n- The customer has not synced their account to social media.\\n- The customer has booked a hotel.' response_metadata={'prompt_feedback': {'block_reason': 0, 'safety_ratings': []}, 'finish_reason': 'STOP', 'safety_ratings': [{'category': 'HARM_CATEGORY_SEXUALLY_EXPLICIT', 'probability': 'NEGLIGIBLE', 'blocked': False}, {'category': 'HARM_CATEGORY_HATE_SPEECH', 'probability': 'NEGLIGIBLE', 'blocked': False}, {'category': 'HARM_CATEGORY_HARASSMENT', 'probability': 'NEGLIGIBLE', 'blocked': False}, {'category': 'HARM_CATEGORY_DANGEROUS_CONTENT', 'probability': 'NEGLIGIBLE', 'blocked': False}]} id='run-eed64a80-be41-4136-b98f-b6d2036b1f8c-0' usage_metadata={'input_tokens': 75, 'output_tokens': 64, 'total_tokens': 139}\n"
          ]
        }
      ]
    },
    {
      "cell_type": "code",
      "source": [
        "import pandas as pd\n",
        "from langchain.schema import HumanMessage\n",
        "from langchain_google_genai import ChatGoogleGenerativeAI\n",
        "\n",
        "# Sample DataFrame creation for demonstration based on provided data\n",
        "data = {\n",
        "    'Age': [34],\n",
        "    'FrequentFlyer': ['No'],\n",
        "    'AnnualIncomeClass': ['Middle Income'],\n",
        "    'ServicesOpted': [6],\n",
        "    'AccountSyncedToSocialMedia': ['No'],\n",
        "    'BookedHotelOrNot': ['Yes']\n",
        "}\n",
        "\n",
        "df = pd.DataFrame(data)\n",
        "\n",
        "# Function to create prompt for each row\n",
        "def create_prompt(row):\n",
        "    row_str = f\"Age: {row['Age']}, FrequentFlyer: {row['FrequentFlyer']}, \" \\\n",
        "              f\"AnnualIncomeClass: {row['AnnualIncomeClass']}, ServicesOpted: {row['ServicesOpted']}, \" \\\n",
        "              f\"AccountSyncedToSocialMedia: {row['AccountSyncedToSocialMedia']}, BookedHotelOrNot: {row['BookedHotelOrNot']}\"\n",
        "\n",
        "    prompt = f\"Convert the following row to a detailed textual description: {row_str}. \" \\\n",
        "             f\"Don't repeat similar descriptions for every line, and no need to follow an order while generating the description.\"\n",
        "    return prompt\n",
        "\n",
        "# Instantiate the language model (assuming necessary imports and configurations)\n",
        "llm = ChatGoogleGenerativeAI(model=\"gemini-pro\", temperature=0.7, top_p=0.85)\n",
        "\n",
        "# Initialize a list to store the responses\n",
        "responses = []\n",
        "\n",
        "# Iterate through each row and generate a textual description\n",
        "for index, row in df.iterrows():\n",
        "    prompt = create_prompt(row)\n",
        "    message = HumanMessage(content=prompt)\n",
        "    try:\n",
        "        response = llm.invoke([message])\n",
        "        # Extract the content from the response dictionary\n",
        "        content = response.content\n",
        "        responses.append(content)\n",
        "        print(f\"Row {index} response: {content}\")\n",
        "    except Exception as e:\n",
        "        print(f\"Error processing row {index}: {e}\")\n",
        "        responses.append(None)\n",
        "\n",
        "# # Add responses to the original DataFrame\n",
        "# df['TextualDescription'] = responses\n",
        "\n",
        "# # Print the updated DataFrame\n",
        "# print(df)\n",
        "\n",
        "# # Optionally, save the DataFrame to a CSV file\n",
        "# df.to_csv('updated_dataset.csv', index=False)\n"
      ],
      "metadata": {
        "colab": {
          "base_uri": "https://localhost:8080/"
        },
        "id": "FxkyWgMtrDt_",
        "outputId": "8dd4d046-a60a-4eb7-d593-2b27ddd95f78"
      },
      "execution_count": 15,
      "outputs": [
        {
          "output_type": "stream",
          "name": "stdout",
          "text": [
            "Row 0 response: The individual is 34 years old and has a middle-income annual income. They have not opted for the frequent flyer program. They have opted for six services and have not synced their account to social media. Notably, they have booked a hotel.\n"
          ]
        }
      ]
    },
    {
      "cell_type": "code",
      "source": [
        "df = pd.read_csv('/content/Customertravel.csv')\n",
        "# Initialize a list to store the responses\n",
        "responses = []\n",
        "\n",
        "# Iterate through each row and generate a textual description\n",
        "for index, row in df.iterrows():\n",
        "    prompt = create_prompt(row)\n",
        "    message = HumanMessage(content=prompt)\n",
        "    try:\n",
        "        response = llm.invoke([message])\n",
        "        # Extract the content from the response dictionary\n",
        "        content = response.content\n",
        "        responses.append(content)\n",
        "        # print(f\"Row {index} response: {response}\")\n",
        "    except Exception as e:\n",
        "        print(f\"Error processing row {index}: {e}\")\n",
        "        responses.append(None)\n",
        "\n",
        "# Add responses to the original DataFrame\n",
        "df['TextualDescription'] = responses\n",
        "\n",
        "df.to_csv('updated_dataset.csv', index=False)"
      ],
      "metadata": {
        "id": "e3HN0Jzmp7Pi"
      },
      "execution_count": null,
      "outputs": []
    },
    {
      "cell_type": "code",
      "source": [
        "print(responses)"
      ],
      "metadata": {
        "id": "LxZQK_Byp7Gv"
      },
      "execution_count": null,
      "outputs": []
    },
    {
      "cell_type": "code",
      "source": [
        "import pandas as pd\n",
        "import asyncio\n",
        "import aiohttp\n",
        "import time\n",
        "from concurrent.futures import ThreadPoolExecutor\n",
        "from langchain.schema import HumanMessage\n",
        "from langchain_google_genai import ChatGoogleGenerativeAI\n",
        "import nest_asyncio\n",
        "\n",
        "# Instantiate the language model (assuming necessary imports and configurations)\n",
        "llm = ChatGoogleGenerativeAI(model=\"gemini-pro\", temperature=0.7, top_p=0.85)\n",
        "\n",
        "# Initialize a list to store the responses\n",
        "responses = []\n",
        "\n",
        "# Define the batch size and delay\n",
        "batch_size = 5\n",
        "delay_between_requests = 2  # seconds\n",
        "delay_between_batches = 10  # seconds\n",
        "\n",
        "# Function to process a single prompt synchronously\n",
        "def process_row(row):\n",
        "    prompt = create_prompt(row)\n",
        "    message = HumanMessage(content=prompt)\n",
        "    try:\n",
        "        response = llm.invoke([message])\n",
        "        return response.content\n",
        "    except Exception as e:\n",
        "        print(f\"Error processing row {row.name}: {e}\")\n",
        "        return None\n",
        "\n",
        "# Asynchronous function to process the dataset in batches\n",
        "async def process_data_in_batches(df, batch_size):\n",
        "    responses = []\n",
        "    loop = asyncio.get_event_loop()\n",
        "    with ThreadPoolExecutor() as executor:\n",
        "        for start in range(0, len(df), batch_size):\n",
        "            end = start + batch_size\n",
        "            batch = df.iloc[start:end]\n",
        "\n",
        "            tasks = [loop.run_in_executor(executor, process_row, row) for index, row in batch.iterrows()]\n",
        "            batch_responses = await asyncio.gather(*tasks)\n",
        "            responses.extend(batch_responses)\n",
        "\n",
        "            # Delay between batches\n",
        "            if end < len(df):\n",
        "                print(f\"Waiting {delay_between_batches} seconds before processing the next batch...\")\n",
        "                await asyncio.sleep(delay_between_batches)\n",
        "    return responses\n",
        "\n",
        "# Get the current event loop\n",
        "loop = asyncio.get_event_loop()\n",
        "\n",
        "\n",
        "# Run the asynchronous processing\n",
        "responses = loop.run_until_complete(process_data_in_batches(df, batch_size))"
      ],
      "metadata": {
        "id": "lFhWt3J0p7D8"
      },
      "execution_count": null,
      "outputs": []
    },
    {
      "cell_type": "code",
      "source": [
        "print(responses)"
      ],
      "metadata": {
        "colab": {
          "base_uri": "https://localhost:8080/"
        },
        "id": "JykJAwOyp7BJ",
        "outputId": "60803037-54a2-45ce-a536-c97b6cc95a4a"
      },
      "execution_count": 21,
      "outputs": [
        {
          "output_type": "stream",
          "name": "stdout",
          "text": [
            "['- The customer is 34 years old.\\n- The customer does not have a frequent flyer account.\\n- The customer belongs to the middle income class.\\n- The customer has opted for 6 services.\\n- The customer has not synced their account to social media.\\n- The customer has booked a hotel.', '- The individual is 34 years old.\\n- They are a member of a frequent flyer program.\\n- They belong to the low-income category.\\n- They have opted for 5 services.\\n- Their account is synced to social media.\\n- They have not booked any hotel.', \"- The customer is 37 years old.\\n- The customer is not a frequent flyer.\\n- The customer belongs to the middle-income class.\\n- The customer has opted for 3 services.\\n- The customer's account is synced to social media.\\n- The customer has not booked a hotel.\", \"- The customer is 30 years old.\\n- The customer does not have a Frequent Flyer membership.\\n- The customer's annual income falls within the middle-income bracket.\\n- The customer has opted for two services.\\n- The customer has not synced their account with any social media platforms.\\n- The customer has not booked a hotel through the platform.\", '- The individual is 30 years old.\\n- The individual does not have a Frequent Flyer membership.\\n- The individual belongs to the Low Income class.\\n- The individual has opted for 1 service.\\n- The individual has not synced their account to social media.\\n- The individual has not booked a hotel.', \"- The customer is 27 years old.\\n- The customer is a frequent flyer.\\n- The customer earns a high annual income.\\n- The customer has opted for one service.\\n- The customer's account is not synced to social media.\\n- The customer has booked a hotel.\", \"- The customer is 34 years old.\\n- The customer does not have a frequent flyer account.\\n- The customer's annual income is in the middle income range.\\n- The customer has opted for 4 services.\\n- The customer's account is synced to social media.\\n- The customer has booked a hotel.\", \"The individual is 34 years old and does not have a frequent flyer membership. Their annual income falls within the low-income bracket. They have opted for two services, which are not specified. The individual's account is synced to social media, but they have not booked any hotel stays recently.\", \"- The customer is 30 years old.\\n- The customer is not a frequent flyer.\\n- The customer belongs to the low-income class.\\n- The customer has opted for three services.\\n- The customer's account is not synced to social media.\\n- The customer has booked a hotel.\", \"- The customer is 36 years old.\\n- The customer has opted for the Frequent Flyer program.\\n- The customer belongs to the High Income class.\\n- The customer has opted for only one service.\\n- The customer's account is not synced to social media.\\n- The customer has not booked a hotel.\", '- The customer is 34 years old.\\n- They are not a frequent flyer.\\n- They belong to the low income class.\\n- They have opted for only one service.\\n- Their account is synced to social media.\\n- They have booked a hotel in the past.', 'The individual is 28 years old and falls within the middle income bracket. They are not a frequent flyer and have not opted for any services. Their account is not synced to social media, and they have not booked a hotel.', \"- The customer is 35 years old.\\n- The customer has not provided any Frequent Flyer information.\\n- The customer falls within the Middle Income category.\\n- The customer has opted for one service.\\n- The customer's account is synced to social media.\\n- The customer has booked a hotel.\", '- The individual is 34 years old.\\n- They are a Frequent Flyer.\\n- They belong to the Low Income class.\\n- They have opted for 4 services.\\n- Their account is not synced to social media.\\n- They have not booked a hotel.', '- The customer is 34 years old.\\n- They are not a frequent flyer.\\n- They belong to the middle-income class.\\n- They have opted for 5 services.\\n- Their account is not synced to any social media platform.\\n- They have not booked any hotel through the platform.', \"- The customer is 37 years old.\\n- The customer is a frequent flyer.\\n- The customer has a low annual income.\\n- The customer has opted for 6 services.\\n- The customer's account is not synced to social media.\\n- The customer has booked a hotel.\", \"- The customer is 30 years old.\\n- The customer is not a frequent flyer.\\n- The customer's annual income is in the low-income class.\\n- The customer has opted for 1 service.\\n- The customer's account is synced to social media.\\n- The customer has booked a hotel.\", '- The individual is 30 years old.\\n- They are a member of a frequent flyer program.\\n- They fall within the high income bracket.\\n- They have opted for only one service.\\n- Their account is synced to social media.\\n- They have not booked a hotel recently.', 'The individual is 31 years old and belongs to the middle-income group. They are not a frequent flyer and have not opted for any services. Their account is not synced to social media, and they have made a hotel booking.', '- The customer is 37 years old.\\n- They are not a frequent flyer.\\n- They belong to the low-income class.\\n- They have opted for 2 services.\\n- Their account is synced to social media.\\n- They have not booked a hotel.', '- The customer is 30 years old.\\n- The customer is not a Frequent Flyer.\\n- The customer belongs to the Middle Income class.\\n- The customer has opted for 4 services.\\n- The customer has not synced their account to social media.\\n- The customer has booked a hotel.', 'The individual is 31 years old and has opted into the Frequent Flyer program, indicating a high frequency of air travel. Their annual income falls within the high-income bracket, suggesting a comfortable financial situation. Despite their frequent travel, they have not booked any hotel accommodations recently. Additionally, they have not linked their account to any social media platforms, indicating a preference for privacy. Notably, they have only opted for one service, suggesting a selective approach to additional services or subscriptions.', '- The customer is 34 years old.\\n- The customer is a frequent flyer.\\n- The customer has a low annual income.\\n- The customer has opted for one service.\\n- The customer has synced their account to social media.\\n- The customer has not booked a hotel.', '- The customer is 30 years old.\\n- The customer has not opted for the Frequent Flyer program.\\n- The customer belongs to the middle income class.\\n- The customer has opted for two services.\\n- The customer has not synced their account to social media.\\n- The customer has not booked a hotel.', 'The individual is 34 years old and belongs to the middle-income class. They have opted for one service, and their account is not synced to social media. They have booked a hotel. Despite not being a frequent flyer, the individual has booked a hotel.', '- The individual is 38 years old.\\n- They are a frequent flyer.\\n- Their annual income falls within the low-income category.\\n- They have opted for one service.\\n- Their account is not synced to social media.\\n- They have booked a hotel.', \"- The customer is 37 years old.\\n- The customer is not a frequent flyer.\\n- The customer has a middle income.\\n- The customer has opted for 3 services.\\n- The customer's account is synced to social media.\\n- The customer has not booked a hotel.\", \"- The customer is 30 years old.\\n- The customer is not a frequent flyer.\\n- The customer has a middle income.\\n- The customer has opted for 5 services.\\n- The customer's account is synced to social media.\\n- The customer has not booked a hotel.\", \"- The customer is 28 years old.\\n- The customer is not a frequent flyer.\\n- The customer has a low annual income.\\n- The customer has opted for one service.\\n- The customer's account is synced to social media.\\n- The customer has not booked a hotel.\", \"- The individual is 34 years old.\\n- The individual has opted in to the Frequent Flyer program.\\n- The individual belongs to the High Income class.\\n- The individual has opted for only one service.\\n- The individual's account is not synced to any social media platforms.\\n- The individual has not booked any hotel.\", '- The customer is 33 years old.\\n- They are not a frequent flyer.\\n- They belong to the middle income class.\\n- They have opted for 6 services.\\n- Their account is not synced to social media.\\n- They have booked a hotel.', \"- The customer is 34 years old.\\n- The customer is not a frequent flyer.\\n- The customer belongs to the low-income class.\\n- The customer has opted for two services.\\n- The customer's account is not synced to social media.\\n- The customer has not booked a hotel.\", '- The customer is 27 years old.\\n- They are not a frequent flyer.\\n- They belong to the middle income class.\\n- They have opted for 3 services.\\n- Their account is synced to social media.\\n- They have not booked a hotel.', '- Age: 35\\n- Frequent flyer: Yes\\n- High annual income\\n- Opted for 1 service\\n- Account not synced to social media\\n- Has not booked a hotel', '- The customer is 30 years old.\\n- The customer does not have a Frequent Flyer record.\\n- The customer belongs to the Low Income class.\\n- The customer has opted for 4 services.\\n- The customer has not synced their account to social media.\\n- The customer has not booked a hotel.', 'The individual is 36 years old and belongs to the middle income class. They are not a frequent flyer and have opted for two services. Their account is not synced to social media. Notably, they have made a hotel booking.', \"- The customer is 34 years old.\\n- The customer is a Frequent Flyer.\\n- The customer's annual income is in the low income category.\\n- The customer has opted for 1 service.\\n- The customer's account is synced to social media.\\n- The customer has booked a hotel.\", '- The individual is 37 years old.\\n- They are a frequent flyer, indicating they travel by air often.\\n- Their annual income falls within the low-income category.\\n- They have opted for one service, but the specific service is not specified.\\n- Their account is synced to social media.\\n- They have not booked a hotel for their travel.', \"- The customer is 37 years old.\\n- The customer is not a frequent flyer.\\n- The customer belongs to the middle income class.\\n- The customer has opted for three services.\\n- The customer's account is not synced to social media.\\n- The customer has not booked a hotel.\", '- The individual is 36 years old.\\n- They are not a frequent flyer.\\n- They belong to the middle income class.\\n- They have opted for two services.\\n- Their account is not synced to social media.\\n- They have not booked a hotel recently.', '- The customer is 27 years old.\\n- The customer does not have a Frequent Flyer membership.\\n- The customer belongs to the Low Income income class.\\n- The customer has opted for 5 services.\\n- The customer has not synced their account to social media.\\n- The customer has booked a hotel.', \"- The customer is 36 years old.\\n- The customer is a frequent flyer.\\n- The customer has a high annual income.\\n- The customer has opted for 4 services.\\n- The customer's account is not synced to social media.\\n- The customer has not booked a hotel.\", \"- The customer is 28 years old.\\n- The customer is not a frequent flyer.\\n- The customer belongs to the middle income class.\\n- The customer has opted for one service.\\n- The customer's account is synced to social media.\\n- The customer has booked a hotel.\", \"- The customer is 30 years old.\\n- The customer does not have a Frequent Flyer account.\\n- The customer's annual income is in the low-income category.\\n- The customer has opted for 2 services.\\n- The customer's account is not synced to any social media platform.\\n- The customer has not booked a hotel through the platform.\", '- The customer is 27 years old.\\n- They are not a frequent flyer.\\n- They belong to the middle-income class.\\n- They have opted for three services.\\n- Their account is not synced to social media.\\n- They have not booked a hotel.', 'The customer is 37 years old and has opted for 6 services. They have a high annual income and are a frequent flyer. While they have booked a hotel, they have not synced their account to social media.', \"- The customer is 27 years old.\\n- The customer does not have a frequent flyer account.\\n- The customer's annual income is in the low-income bracket.\\n- The customer has opted for one service.\\n- The customer's account is synced to social media.\\n- The customer has not booked a hotel.\", \"- The customer is 38 years old.\\n- The customer does not have a Frequent Flyer account.\\n- The customer belongs to the Middle Income class.\\n- The customer has opted for 2 services.\\n- The customer's account is synced to social media.\\n- The customer has not booked a hotel.\", '- Age: 30\\n- Frequent Flyer: No\\n- Annual Income: Middle Income\\n- Services Opted: 4\\n- Social Media Account Synced: No\\n- Hotel Booking Status: Yes', '- The individual is 34 years old.\\n- They are a frequent flyer, indicating they travel frequently by air.\\n- They belong to the low-income class, suggesting they have a relatively modest annual income.\\n- They have opted for one service, but the specific service is not specified.\\n- Their account is not synced to any social media platforms.\\n- They have not booked a hotel recently.', 'The individual is 34 years old and has opted into the FrequentFlyer program. They belong to the low-income category and have opted for three services. Their account is not synced to any social media platforms. Notably, they have made a hotel booking.', 'The customer is 31 years old and has a middle income. They are not a frequent flyer and have not opted for any services. Their account is not synced to social media, and they have not booked a hotel.', \"- The customer is 34 years old.\\n- The customer does not have a Frequent Flyer membership.\\n- The customer's annual income falls within the low-income bracket.\\n- The customer has opted for one service.\\n- The customer's account is synced to social media.\\n- The customer has not booked a hotel.\", '- The customer is 30 years old.\\n- The customer is a frequent flyer.\\n- The customer belongs to the high-income class.\\n- The customer has opted for five services.\\n- The customer has not synced their account to social media.\\n- The customer has not booked a hotel.', '- The individual is 31 years old.\\n- They are not a member of a frequent flyer program.\\n- They belong to the middle income class.\\n- They have opted for one service.\\n- Their account is not synced to any social media platform.\\n- They have booked a hotel in the past.', '- The customer is 28 years old.\\n- The customer does not have a Frequent Flyer account.\\n- The customer has a low annual income.\\n- The customer has opted for 4 services.\\n- The customer has synced their account to social media.\\n- The customer has booked a hotel.', \"- The customer is 30 years old.\\n- The customer has not opted for the Frequent Flyer program.\\n- The customer belongs to the middle income class.\\n- The customer has opted for 3 services.\\n- The customer's account is synced to social media.\\n- The customer has booked a hotel.\", 'The individual is 37 years old and has a high annual income. They are a frequent flyer and have opted for one additional service. Their account is synced to social media, but they have not booked a hotel recently.', '- The individual is 36 years old.\\n- They are not a frequent flyer.\\n- They belong to the low-income category.\\n- They have opted for one service.\\n- Their account is not synced to social media.\\n- They have not booked a hotel.', 'The customer is 36 years old and earns a middle-income salary. They have not signed up for the frequent flyer program and have not linked their account to any social media platforms. They have opted for two services and have not booked a hotel through the platform.', 'The customer is 34 years old and has opted for six services. They do not belong to the Frequent Flyer program and fall under the Middle Income class. Their account is not synced to any social media platform. Notably, they have booked a hotel.', '- The individual is 35 years old.\\n- They are a frequent flyer.\\n- They belong to the low-income category.\\n- They have opted for only one service.\\n- Their account is not synced to any social media platform.\\n- They have not booked a hotel recently.', '- The customer is 30 years old.\\n- The customer is not a frequent flyer.\\n- The customer belongs to the middle-income class.\\n- The customer has opted for 4 services.\\n- The customer has synced their account to social media.\\n- The customer has not booked a hotel.', 'The individual is 29 years old and earns a middle income. They do not have a frequent flyer status and have opted for two services. Their account is not synced to social media and they have not booked a hotel recently.', '- The individual is 33 years old.\\n- They are a Frequent Flyer.\\n- They fall into the Low Income Annual Income Class.\\n- They have opted for 1 service.\\n- Their account is synced to social media.\\n- They have booked a hotel.', '- The individual is 28 years old.\\n- They are a member of a frequent flyer program.\\n- They fall within the high-income bracket.\\n- They have opted for one service.\\n- Their account is not synced to any social media platform.\\n- They have booked a hotel in the past.', '- The customer is 33 years old.\\n- The customer is not a frequent flyer.\\n- The customer belongs to the middle income class.\\n- The customer has opted for 5 services.\\n- The customer has synced their account to social media.\\n- The customer has booked a hotel.', 'The customer is 37 years old and does not have a frequent flyer membership. They fall into the low-income category and have opted for two services. Their account is synced to social media, but they have not booked a hotel recently.', \"- The individual is 31 years old.\\n- The individual is not a frequent flyer.\\n- The individual's annual income falls within the middle income range.\\n- The individual has opted for three services.\\n- The individual's account is not synced to any social media platform.\\n- The individual has not booked a hotel.\", \"- The customer is 34 years old.\\n- The customer is a frequent flyer.\\n- The customer earns a high annual income.\\n- The customer has opted for 4 services.\\n- The customer's account is not synced to social media.\\n- The customer has not booked a hotel recently.\", 'The customer is 37 years old and does not belong to a frequent flyer program. They fall into the low-income category and have opted for one service. Their account is not synced to any social media platform, and they have booked a hotel.', '- The customer is 30 years old.\\n- The customer does not have a Frequent Flyer account.\\n- The customer belongs to the Low Income category.\\n- The customer has opted for 2 services.\\n- The customer has not synced their account to any social media platform.\\n- The customer has not booked a hotel recently.', \"- The individual is 30 years old.\\n- The individual is not a frequent flyer.\\n- The individual falls under the middle income class.\\n- The individual has opted for only one service.\\n- The individual's account is synced to social media.\\n- The individual has booked a hotel.\", '- The customer is 30 years old.\\n- The customer is a frequent flyer.\\n- The customer has a low annual income.\\n- The customer has opted for one service.\\n- The customer has synced their account to social media.\\n- The customer has not booked a hotel.', \"- The individual is 30 years old.\\n- The individual is not a frequent flyer.\\n- The individual belongs to the middle-income class.\\n- The individual has opted for 3 services.\\n- The individual's account is not synced to any social media platforms.\\n- The individual has not booked any hotel reservations.\", 'The customer is 37 years old and does not have a Frequent Flyer membership. They belong to the middle income class and have opted for 6 services. Their account is not synced to social media. They have booked a hotel in the past.', \"- The customer is 31 years old.\\n- The customer does not have a Frequent Flyer account.\\n- The customer falls under the Low Income category.\\n- The customer has opted for 4 services.\\n- The customer's account is synced to social media.\\n- The customer has not booked a hotel.\", 'The individual is 34 years old and has a high annual income. They are a frequent flyer and have opted for one service. Their account is synced to social media, but they have not booked a hotel recently.', 'The individual is 34 years old and a frequent flyer. Their annual income falls within the low-income bracket. They have opted for one service and have not linked their account to any social media platform. Notably, they have booked a hotel.', '- The individual is 34 years old.\\n- They do not have a frequent flyer status.\\n- They belong to the low-income class.\\n- They have opted for 5 services.\\n- Their account is not synced to social media.\\n- They have not booked any hotel through the platform.', '- The individual is 28 years old.\\n- They are not a frequent flyer.\\n- They belong to the middle-income class.\\n- They have opted for three services.\\n- Their account is not synced to social media.\\n- They have booked a hotel.', '- The individual is 27 years old.\\n- They are a frequent flyer, indicating regular air travel.\\n- They belong to the high-income class, suggesting a comfortable financial status.\\n- They have opted for only one service, possibly indicating a specific need or preference.\\n- Their account is not synced to social media, suggesting a preference for privacy or separation of personal and business spheres.\\n- They have not booked a hotel, implying that they may not be planning any immediate travel or have alternative arrangements.', '- The individual is 30 years old.\\n- They are not a frequent flyer.\\n- They fall under the low-income category.\\n- They have opted for one service.\\n- Their account is synced to social media.\\n- They have not booked a hotel.', '- The customer is 37 years old.\\n- They are not a frequent flyer.\\n- They belong to the middle income class.\\n- They have opted for 4 services.\\n- Their account is not synced to social media.\\n- They have not booked a hotel.', \"- The customer is 35 years old.\\n- The customer does not have a Frequent Flyer account.\\n- The customer belongs to the middle-income class.\\n- The customer has opted for one service.\\n- The customer's account is not synced to any social media platform.\\n- The customer has booked a hotel.\", '- The customer is 27 years old.\\n- They have a Frequent Flyer membership.\\n- They belong to the low-income category.\\n- They have opted for only one service.\\n- Their account is not synced to social media.\\n- They have booked a hotel.', \"- Age: The customer is 35 years old.\\n- FrequentFlyer: The customer is not a frequent flyer.\\n- AnnualIncomeClass: The customer belongs to the middle income class.\\n- ServicesOpted: The customer has opted for 3 services.\\n- AccountSyncedToSocialMedia: The customer's account is synced to social media.\\n- BookedHotelOrNot: The customer has not booked a hotel.\", \"- The customer is 30 years old.\\n- The customer is not a frequent flyer.\\n- The customer belongs to the middle-income class.\\n- The customer has opted for two services.\\n- The customer's account is synced to social media.\\n- The customer has not booked a hotel.\", '- The individual is 37 years old.\\n- They are not a frequent flyer.\\n- They fall within the low-income category.\\n- They have opted for one service.\\n- Their account is not synced to social media.\\n- They have booked a hotel.', \"- The customer is 30 years old.\\n- The customer is a frequent flyer.\\n- The customer has a high annual income.\\n- The customer has opted for one service.\\n- The customer's account is not synced to social media.\\n- The customer has not booked a hotel.\", 'The customer is 29 years old and has a middle income. They have opted for 6 services and have not synced their account to social media. They have booked a hotel in the past.', 'The customer is 30 years old and has a low annual income. They have opted for 2 services and have synced their account to social media. However, they have not booked a hotel recently.', 'The individual is 30 years old and has a low annual income. They have not enrolled in the Frequent Flyer program. They have opted for five services and have synced their account to social media. However, they have not booked a hotel recently.', '- The customer is 36 years old.\\n- They are a frequent flyer.\\n- They belong to the high-income class.\\n- They have opted for one service.\\n- Their account is not synced to social media.\\n- They have not booked a hotel.', \"- The customer is 37 years old.\\n- The customer does not have a Frequent Flyer membership.\\n- The customer belongs to the low-income category.\\n- The customer has opted for only one service.\\n- The customer's account is not synced to any social media platform.\\n- The customer has not booked a hotel.\", 'The individual is 28 years old, has not opted for the Frequent Flyer program, belongs to the middle-income group, has opted for two services, has not synced their account with social media, and has booked a hotel.', \"- The customer is 30 years old.\\n- The customer does not have a Frequent Flyer membership.\\n- The customer belongs to the Middle Income class.\\n- The customer has opted for 1 service.\\n- The customer's account is synced to social media.\\n- The customer has booked a hotel.\", '- The individual is 31 years old.\\n- They are a member of a frequent flyer program.\\n- They fall within the low-income category.\\n- They have opted for four services.\\n- Their account is synced to social media.\\n- They have not booked a hotel recently.', \"- The customer is 31 years old.\\n- The customer is not a FrequentFlyer member.\\n- The customer belongs to the middle income class.\\n- The customer has opted for 3 services.\\n- The customer's account is not synced to any social media platform.\\n- The customer has not booked any hotel.\", \"- The customer is 31 years old.\\n- The customer is not a frequent flyer.\\n- The customer's annual income is in the low-income category.\\n- The customer has opted for 2 services.\\n- The customer has not synced their account to social media.\\n- The customer has not booked a hotel.\"]\n"
          ]
        }
      ]
    },
    {
      "cell_type": "code",
      "source": [
        "df['TextualDescription'] = responses"
      ],
      "metadata": {
        "id": "V1vtVuFA0RoP"
      },
      "execution_count": 22,
      "outputs": []
    },
    {
      "cell_type": "code",
      "source": [
        "df['TextualDescription'].to_csv('dummy.csv', index=False)"
      ],
      "metadata": {
        "id": "40Ci8sHw0X4W"
      },
      "execution_count": 24,
      "outputs": []
    },
    {
      "cell_type": "code",
      "source": [],
      "metadata": {
        "id": "-vgk4oqw0ZJ-"
      },
      "execution_count": null,
      "outputs": []
    }
  ]
}